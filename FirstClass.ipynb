{
  "nbformat": 4,
  "nbformat_minor": 0,
  "metadata": {
    "colab": {
      "provenance": [],
      "collapsed_sections": [
        "3xr2lF8QkTcK",
        "yA_CwDlPbkAQ"
      ],
      "toc_visible": true,
      "authorship_tag": "ABX9TyOba7JLN13gyMUUYq1klWHc",
      "include_colab_link": true
    },
    "kernelspec": {
      "name": "python3",
      "display_name": "Python 3"
    },
    "language_info": {
      "name": "python"
    }
  },
  "cells": [
    {
      "cell_type": "markdown",
      "metadata": {
        "id": "view-in-github",
        "colab_type": "text"
      },
      "source": [
        "<a href=\"https://colab.research.google.com/github/J-Jumanah/MasarProject/blob/main/FirstClass.ipynb\" target=\"_parent\"><img src=\"https://colab.research.google.com/assets/colab-badge.svg\" alt=\"Open In Colab\"/></a>"
      ]
    },
    {
      "cell_type": "markdown",
      "source": [
        "# Python First Class\n",
        "---\n",
        "> 1. List"
      ],
      "metadata": {
        "id": "3xr2lF8QkTcK"
      }
    },
    {
      "cell_type": "code",
      "source": [
        "#Define a List\n",
        "my_list = [1, 2, 3, \"four\", 5.0]\n",
        "\n",
        "my_list2 = [1, 2]\n",
        "\n",
        "#Print element in index 0\n",
        "print(my_list[0]) #1\n",
        "\n",
        "#Change an element\n",
        "my_list[1] = \"two\"\n",
        "my_list\n",
        "\n",
        "#Add an element\n",
        "my_list.append(6) #Last index\n",
        "my_list\n",
        "\n",
        "#Remove an element\n",
        "my_list.remove(\"four\")\n",
        "my_list\n",
        "\n",
        "# del my_list[2] ?\n",
        "repeated_list = my_list2 * 2 #Duplicate the list\n",
        "repeated_list\n",
        "length = len(my_list2)\n",
        "\n",
        "#Concatenate\n",
        "new_list = my_list2 + [7, 8, 9]\n",
        "new_list\n",
        "\n",
        "#List into List\n",
        "nested_list = [[1, 2, 3], [4, 5, 6], [7, 8, 9]]\n",
        "nested_list"
      ],
      "metadata": {
        "colab": {
          "base_uri": "https://localhost:8080/"
        },
        "id": "1dwscSeVwZPi",
        "outputId": "e4cc6ff6-faaa-4bc7-a0bb-9570c9c86fbd"
      },
      "execution_count": 9,
      "outputs": [
        {
          "output_type": "stream",
          "name": "stdout",
          "text": [
            "1\n"
          ]
        },
        {
          "output_type": "execute_result",
          "data": {
            "text/plain": [
              "[[1, 2, 3], [4, 5, 6], [7, 8, 9]]"
            ]
          },
          "metadata": {},
          "execution_count": 9
        }
      ]
    },
    {
      "cell_type": "markdown",
      "source": [
        "> 2. Dictionary"
      ],
      "metadata": {
        "id": "5nMwLZrDdV_h"
      }
    },
    {
      "cell_type": "code",
      "source": [
        "#Define a dictionary\n",
        "my_dict = {\"key1\": \"value1\", \"key2\": \"value2\", \"key3\": \"value3\"}\n",
        "\n",
        "#Get a key\n",
        "value = my_dict[\"key1\"]\n",
        "\n",
        "#Change an element\n",
        "my_dict[\"key2\"] = \"new_value\"\n",
        "\n",
        "#Add a new key\n",
        "my_dict[\"key4\"] = \"value4\"\n",
        "\n",
        "#Delete a key\n",
        "del my_dict[\"key3\"]\n",
        "\n",
        "#Loop\n",
        "for key in my_dict:\n",
        "    print(key, my_dict[key])\n",
        "\n",
        "#Check a key exsit\n",
        "key_exists = \"key1\" in my_dict\n",
        "\n",
        "#Get a key or value\n",
        "keys_list = list(my_dict.keys())\n",
        "values_list = list(my_dict.values())\n",
        "\n",
        "#Len of dict\n",
        "num_items = len(my_dict)\n",
        "\n",
        "#Nested dictionaries\n",
        "nested_dict = {\"key1\": {\"subkey1\": \"value1\", \"subkey2\": \"value2\"}, \"key2\": {\"subkey3\": \"value3\"}}\n",
        "\n",
        "#Clear dicts\n",
        "my_dict.clear()"
      ],
      "metadata": {
        "id": "dg2wU4pkzieX"
      },
      "execution_count": null,
      "outputs": []
    },
    {
      "cell_type": "markdown",
      "source": [
        ">> 2.1 Example of Dictionary"
      ],
      "metadata": {
        "id": "vO-ITUnrfsHC"
      }
    },
    {
      "cell_type": "code",
      "source": [
        "my_dict = {\"Name\":'Jumanah', \"Age\":24, \"City\":'Jeddah'}\n",
        "my_dict[\"Major\"] = \"IT\"\n",
        "my_dict"
      ],
      "metadata": {
        "colab": {
          "base_uri": "https://localhost:8080/"
        },
        "id": "fN91XhZLgCEz",
        "outputId": "98fab206-381e-4be6-9394-05f88834fc6e"
      },
      "execution_count": 11,
      "outputs": [
        {
          "output_type": "execute_result",
          "data": {
            "text/plain": [
              "{'Name': 'Jumanah', 'Age': 24, 'City': 'Jeddah', 'Major': 'IT'}"
            ]
          },
          "metadata": {},
          "execution_count": 11
        }
      ]
    },
    {
      "cell_type": "markdown",
      "source": [
        "> 3. Functions"
      ],
      "metadata": {
        "id": "JxV6dRnNe2ac"
      }
    },
    {
      "cell_type": "code",
      "source": [
        "def Multi(x=6):\n",
        "  print(\"The result:\",x*x)\n",
        "\n",
        "#Override the x = 6 with 3\n",
        "Multi(3)\n",
        "\n",
        "def loopNumbers(number):\n",
        "  for i in range(number):\n",
        "    print(i)\n",
        "#0 to 5\n",
        "loopNumbers(6)"
      ],
      "metadata": {
        "colab": {
          "base_uri": "https://localhost:8080/"
        },
        "id": "9kgfA7tD2I0G",
        "outputId": "01049571-ca07-4b0e-f78e-37741a1964f3"
      },
      "execution_count": 10,
      "outputs": [
        {
          "output_type": "stream",
          "name": "stdout",
          "text": [
            "The result: 9\n",
            "0\n",
            "1\n",
            "2\n",
            "3\n",
            "4\n",
            "5\n"
          ]
        }
      ]
    },
    {
      "cell_type": "markdown",
      "source": [
        "# Python Homework\n",
        "---\n",
        "\n",
        "> Homework 1\n"
      ],
      "metadata": {
        "id": "yA_CwDlPbkAQ"
      }
    },
    {
      "cell_type": "code",
      "source": [
        "#Define a var\n",
        "myName = 'Jumanah Jan'\n",
        "myAge = 24\n",
        "#Print statement\n",
        "print(\"Hello everyone I'm\", myName, myAge,\"years old \\nI'm taking a step forward the Data Science and Machine Learning!\")"
      ],
      "metadata": {
        "id": "CPndMwfHbu7P"
      },
      "execution_count": null,
      "outputs": []
    },
    {
      "cell_type": "markdown",
      "source": [
        "> Homework 2"
      ],
      "metadata": {
        "id": "vHcE7Vv3cTVB"
      }
    }
  ]
}